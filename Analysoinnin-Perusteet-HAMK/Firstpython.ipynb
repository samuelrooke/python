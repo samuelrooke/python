{
 "cells": [
  {
   "cell_type": "code",
   "execution_count": null,
   "metadata": {},
   "outputs": [],
   "source": [
    "creator = \"Samuel\" \n",
    "number1 = 5\n",
    "number2 = 2\n",
    "\n",
    "print(\"Printer App\")\n",
    "print(\"This app is made by:\", creator)\n",
    "\n",
    "print(\"The value of number1 is\", number1)\n",
    "print(\"The value of number2 is\", number2)\n",
    "\n",
    "multiplication = number1 * number2\n",
    "print(f\"{number1} * {number2} = {multiplication}\")\n",
    "\n",
    "addition = number1 + number2\n",
    "print(f\"{number1} + {number2} = {addition}\")\n",
    "\n",
    "division = float(number1) / float(number2)\n",
    "print(f\"{number1} / {number2} = {division}\")\n",
    "\n",
    "subtraction = number1 - number2\n",
    "print(f\"{number1} - {number2} = {subtraction}\")"
   ]
  },
  {
   "cell_type": "markdown",
   "metadata": {},
   "source": [
    "Printer App\n",
    "This app is made by: Samuel\n",
    "The value of number1 is 5\n",
    "The value of number2 is 2\n",
    "5 * 2 = 10\n",
    "5 + 2 = 7\n",
    "5 / 2 = 2.5\n",
    "5 - 2 = 3"
   ]
  }
 ],
 "metadata": {
  "language_info": {
   "name": "python"
  }
 },
 "nbformat": 4,
 "nbformat_minor": 2
}
