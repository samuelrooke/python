{
 "cells": [
  {
   "cell_type": "code",
   "execution_count": null,
   "metadata": {},
   "outputs": [],
   "source": [
    "#Tehtävä 1\n",
    "furniture = [\"table\", \"chair\", \"shelf\", \"sofa\"]\n",
    "\n",
    "print(furniture)\n",
    "print(furniture[:2])\n",
    "for item in furniture:\n",
    "    if item == \"sofa\":\n",
    "        print(\"sofa\")\n",
    "\n"
   ]
  },
  {
   "cell_type": "code",
   "execution_count": null,
   "metadata": {},
   "outputs": [],
   "source": [
    "#Tehtävä 2\n",
    "\n",
    "import random\n",
    "\n",
    "thrownDiceNumbers = [random.randint(1, 6) for _ in range(5)]\n",
    "\n",
    "print(thrownDiceNumbers)\n",
    "print(sum(thrownDiceNumbers))\n",
    "print(max(thrownDiceNumbers))"
   ]
  },
  {
   "cell_type": "code",
   "execution_count": null,
   "metadata": {},
   "outputs": [],
   "source": [
    "#Tehtävä 3\n",
    "import random\n",
    "\n",
    "pickedNumbers = random.sample(range(1, 21), 5)\n",
    "\n",
    "print(pickedNumbers)"
   ]
  }
 ],
 "metadata": {
  "language_info": {
   "name": "python"
  }
 },
 "nbformat": 4,
 "nbformat_minor": 2
}
